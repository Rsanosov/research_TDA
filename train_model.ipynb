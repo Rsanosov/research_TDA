{
 "cells": [
  {
   "cell_type": "code",
   "execution_count": 3,
   "metadata": {},
   "outputs": [
    {
     "name": "stdout",
     "output_type": "stream",
     "text": [
      "Rips(maxdim=1, thresh=inf, coeff=2, do_cocycles=False, n_perm = None, verbose=True)\n"
     ]
    }
   ],
   "source": [
    "import pandas as pd\n",
    "import numpy as np\n",
    "import gudhi as gd\n",
    "import matplotlib.pyplot as plt\n",
    "from matplotlib.animation import ArtistAnimation\n",
    "import diagram2vec\n",
    "from collections import defaultdict\n",
    "from mpl_toolkits.axes_grid1 import make_axes_locatable\n",
    "import imageio\n",
    "import time\n",
    "from sklearn.neighbors.kde import KernelDensity\n",
    "from ripser import Rips\n",
    "from gudhi.representations.kernel_methods import PersistenceFisherDistance, \\\n",
    "                                                SlicedWassersteinDistance\n",
    "vr = Rips()\n",
    "import seaborn as sns\n",
    "import tensorflow as tf\n",
    "\n",
    "from sklearn.model_selection import KFold, train_test_split, cross_val_score, GridSearchCV\n",
    "from tqdm import tqdm\n",
    "import lightgbm\n",
    "import pickle\n"
   ]
  },
  {
   "cell_type": "code",
   "execution_count": 7,
   "metadata": {},
   "outputs": [
    {
     "name": "stdout",
     "output_type": "stream",
     "text": [
      "Fitting 5 folds for each of 30 candidates, totalling 150 fits\n"
     ]
    },
    {
     "name": "stderr",
     "output_type": "stream",
     "text": [
      "[Parallel(n_jobs=2)]: Using backend LokyBackend with 2 concurrent workers.\n",
      "[Parallel(n_jobs=2)]: Done  46 tasks      | elapsed: 25.0min\n",
      "[Parallel(n_jobs=2)]: Done 150 out of 150 | elapsed: 92.1min finished\n"
     ]
    },
    {
     "name": "stdout",
     "output_type": "stream",
     "text": [
      "Score for sample same angle 0.9359666666666666\n"
     ]
    }
   ],
   "source": [
    "params = {'num_leaves' : [16, 32, 64, 128, 256],\n",
    "        'learning_rate': [0.01, 0.05, 0.1],\n",
    "         'n_estimators' : [100, 200]}\n",
    "\n",
    "with open('datasets/same_angle_36_svd.pkl', 'rb') as f:\n",
    "    X = pickle.load(f)\n",
    "\n",
    "model = lightgbm.LGBMClassifier()\n",
    "searcher = GridSearchCV(model, params, 'accuracy', cv =  5, verbose = 1,  n_jobs = 2)\n",
    "searcher.fit(X, y)\n",
    "        \n",
    "print('Score for sample same angle', searcher.best_score_)\n",
    "scores.append(searcher.best_score_)\n",
    "models.append(searcher.best_estimator_)"
   ]
  },
  {
   "cell_type": "code",
   "execution_count": 8,
   "metadata": {},
   "outputs": [
    {
     "name": "stdout",
     "output_type": "stream",
     "text": [
      "New it 0\n",
      "Fitting 5 folds for each of 30 candidates, totalling 150 fits\n"
     ]
    },
    {
     "name": "stderr",
     "output_type": "stream",
     "text": [
      "[Parallel(n_jobs=2)]: Using backend LokyBackend with 2 concurrent workers.\n",
      "[Parallel(n_jobs=2)]: Done  46 tasks      | elapsed:  5.8min\n",
      "[Parallel(n_jobs=2)]: Done 150 out of 150 | elapsed: 20.7min finished\n"
     ]
    },
    {
     "name": "stdout",
     "output_type": "stream",
     "text": [
      "Score for sample 0 : 0.7587333333333334\n",
      "New it 1\n",
      "Fitting 5 folds for each of 30 candidates, totalling 150 fits\n"
     ]
    },
    {
     "name": "stderr",
     "output_type": "stream",
     "text": [
      "[Parallel(n_jobs=2)]: Using backend LokyBackend with 2 concurrent workers.\n",
      "[Parallel(n_jobs=2)]: Done  46 tasks      | elapsed:  5.4min\n",
      "[Parallel(n_jobs=2)]: Done 150 out of 150 | elapsed: 20.3min finished\n"
     ]
    },
    {
     "name": "stdout",
     "output_type": "stream",
     "text": [
      "Score for sample 1 : 0.7981166666666667\n",
      "New it 2\n",
      "Fitting 5 folds for each of 30 candidates, totalling 150 fits\n"
     ]
    },
    {
     "name": "stderr",
     "output_type": "stream",
     "text": [
      "[Parallel(n_jobs=2)]: Using backend LokyBackend with 2 concurrent workers.\n",
      "[Parallel(n_jobs=2)]: Done  46 tasks      | elapsed:  6.0min\n",
      "[Parallel(n_jobs=2)]: Done 150 out of 150 | elapsed: 21.7min finished\n"
     ]
    },
    {
     "name": "stdout",
     "output_type": "stream",
     "text": [
      "Score for sample 2 : 0.7151666666666666\n",
      "New it 3\n",
      "Fitting 5 folds for each of 30 candidates, totalling 150 fits\n"
     ]
    },
    {
     "name": "stderr",
     "output_type": "stream",
     "text": [
      "[Parallel(n_jobs=2)]: Using backend LokyBackend with 2 concurrent workers.\n",
      "[Parallel(n_jobs=2)]: Done  46 tasks      | elapsed:  5.6min\n",
      "[Parallel(n_jobs=2)]: Done 150 out of 150 | elapsed: 20.8min finished\n"
     ]
    },
    {
     "name": "stdout",
     "output_type": "stream",
     "text": [
      "Score for sample 3 : 0.71625\n",
      "New it 4\n",
      "Fitting 5 folds for each of 30 candidates, totalling 150 fits\n"
     ]
    },
    {
     "name": "stderr",
     "output_type": "stream",
     "text": [
      "[Parallel(n_jobs=2)]: Using backend LokyBackend with 2 concurrent workers.\n",
      "[Parallel(n_jobs=2)]: Done  46 tasks      | elapsed:  5.6min\n",
      "[Parallel(n_jobs=2)]: Done 150 out of 150 | elapsed: 21.4min finished\n"
     ]
    },
    {
     "name": "stdout",
     "output_type": "stream",
     "text": [
      "Score for sample 4 : 0.7606833333333334\n",
      "New it 5\n",
      "Fitting 5 folds for each of 30 candidates, totalling 150 fits\n"
     ]
    },
    {
     "name": "stderr",
     "output_type": "stream",
     "text": [
      "[Parallel(n_jobs=2)]: Using backend LokyBackend with 2 concurrent workers.\n",
      "[Parallel(n_jobs=2)]: Done  46 tasks      | elapsed:  5.8min\n",
      "[Parallel(n_jobs=2)]: Done 150 out of 150 | elapsed: 21.1min finished\n"
     ]
    },
    {
     "name": "stdout",
     "output_type": "stream",
     "text": [
      "Score for sample 5 : 0.80125\n",
      "New it 6\n",
      "Fitting 5 folds for each of 30 candidates, totalling 150 fits\n"
     ]
    },
    {
     "name": "stderr",
     "output_type": "stream",
     "text": [
      "[Parallel(n_jobs=2)]: Using backend LokyBackend with 2 concurrent workers.\n",
      "[Parallel(n_jobs=2)]: Done  46 tasks      | elapsed:  5.5min\n",
      "[Parallel(n_jobs=2)]: Done 150 out of 150 | elapsed: 20.4min finished\n"
     ]
    },
    {
     "name": "stdout",
     "output_type": "stream",
     "text": [
      "Score for sample 6 : 0.7409166666666667\n",
      "New it 7\n",
      "Fitting 5 folds for each of 30 candidates, totalling 150 fits\n"
     ]
    },
    {
     "name": "stderr",
     "output_type": "stream",
     "text": [
      "[Parallel(n_jobs=2)]: Using backend LokyBackend with 2 concurrent workers.\n",
      "[Parallel(n_jobs=2)]: Done  46 tasks      | elapsed:  5.4min\n",
      "[Parallel(n_jobs=2)]: Done 150 out of 150 | elapsed: 19.7min finished\n"
     ]
    },
    {
     "name": "stdout",
     "output_type": "stream",
     "text": [
      "Score for sample 7 : 0.7315166666666667\n",
      "New it 8\n",
      "Fitting 5 folds for each of 30 candidates, totalling 150 fits\n"
     ]
    },
    {
     "name": "stderr",
     "output_type": "stream",
     "text": [
      "[Parallel(n_jobs=2)]: Using backend LokyBackend with 2 concurrent workers.\n",
      "[Parallel(n_jobs=2)]: Done  46 tasks      | elapsed:  5.5min\n",
      "[Parallel(n_jobs=2)]: Done 150 out of 150 | elapsed: 20.4min finished\n"
     ]
    },
    {
     "name": "stdout",
     "output_type": "stream",
     "text": [
      "Score for sample 8 : 0.6926833333333333\n",
      "New it 9\n",
      "Fitting 5 folds for each of 30 candidates, totalling 150 fits\n"
     ]
    },
    {
     "name": "stderr",
     "output_type": "stream",
     "text": [
      "[Parallel(n_jobs=2)]: Using backend LokyBackend with 2 concurrent workers.\n",
      "[Parallel(n_jobs=2)]: Done  46 tasks      | elapsed:  5.7min\n",
      "[Parallel(n_jobs=2)]: Done 150 out of 150 | elapsed: 20.6min finished\n"
     ]
    },
    {
     "name": "stdout",
     "output_type": "stream",
     "text": [
      "Score for sample 9 : 0.7971666666666667\n"
     ]
    }
   ],
   "source": [
    "params = {'num_leaves' : [16, 32, 64, 128, 256],\n",
    "        'learning_rate': [0.01, 0.05, 0.1],\n",
    "         'n_estimators' : [100, 200]}\n",
    "\n",
    "with open('datasets/labels.pkl', 'rb') as f:\n",
    "    y = pickle.load(f)\n",
    "\n",
    "try:\n",
    "    with open('results_swd4.pkl', 'rb') as f:\n",
    "        data = pickle.load(f)\n",
    "        scores = data['scores']\n",
    "        models = data['models']\n",
    "        it = data['it']\n",
    "except:\n",
    "    scores = []\n",
    "    models = []\n",
    "    it = 0\n",
    "\n",
    "for i in range(it, 10):\n",
    "    with open('datasets/random_angles_swd4iter_'+str(i)+'.pkl', 'rb') as f:\n",
    "        data = pickle.load(f)\n",
    "    print('New it', i)\n",
    "    X = data['X']\n",
    "    model = lightgbm.LGBMClassifier()\n",
    "    searcher = GridSearchCV(model, params, 'accuracy', cv =  5, verbose = 1,  n_jobs = 2)\n",
    "    searcher.fit(X, y)\n",
    "        \n",
    "    print('Score for sample', i, ':', searcher.best_score_)\n",
    "    scores.append(searcher.best_score_)\n",
    "    models.append(searcher.best_estimator_)\n",
    "    \n",
    "    with open('results_swd4.pkl', 'wb') as f:\n",
    "        data = {'scores' : scores,\n",
    "               'models' : models,\n",
    "               'it' : i}\n",
    "        pickle.dump(data, f)"
   ]
  },
  {
   "cell_type": "code",
   "execution_count": 4,
   "metadata": {},
   "outputs": [
    {
     "name": "stdout",
     "output_type": "stream",
     "text": [
      "Mean score : 0.7512483333333334\n",
      "Std score : 0.03661018486857328\n",
      "Max score : 0.80125\n",
      "Min score : 0.6926833333333333\n"
     ]
    }
   ],
   "source": [
    "with open('results_swd4.pkl', 'rb') as f:\n",
    "        data = pickle.load(f)\n",
    "        scores = data['scores']\n",
    "        models = data['models']\n",
    "        it = data['it']\n",
    "\n",
    "scores = np.array(scores)\n",
    "print('Mean score :', scores.mean())\n",
    "print('Std score :', scores.std())\n",
    "print('Max score :', scores.max())\n",
    "print('Min score :', scores.min())"
   ]
  },
  {
   "cell_type": "code",
   "execution_count": 5,
   "metadata": {},
   "outputs": [
    {
     "name": "stdout",
     "output_type": "stream",
     "text": [
      "Mean score : 0.9219791666666666\n",
      "Std score : 0.009027794337591658\n",
      "Max score : 0.9333\n",
      "Min score : 0.8963833333333333\n"
     ]
    }
   ],
   "source": [
    "with open('results_swd.pkl', 'rb') as f:\n",
    "        data = pickle.load(f)\n",
    "        scores = data['scores']\n",
    "        models = data['models']\n",
    "        it = data['it']\n",
    "\n",
    "scores = np.array(scores)\n",
    "print('Mean score :', scores.mean())\n",
    "print('Std score :', scores.std())\n",
    "print('Max score :', scores.max())\n",
    "print('Min score :', scores.min())"
   ]
  },
  {
   "cell_type": "code",
   "execution_count": null,
   "metadata": {},
   "outputs": [],
   "source": []
  }
 ],
 "metadata": {
  "kernelspec": {
   "display_name": "Python 3",
   "language": "python",
   "name": "python3"
  },
  "language_info": {
   "codemirror_mode": {
    "name": "ipython",
    "version": 3
   },
   "file_extension": ".py",
   "mimetype": "text/x-python",
   "name": "python",
   "nbconvert_exporter": "python",
   "pygments_lexer": "ipython3",
   "version": "3.7.4"
  }
 },
 "nbformat": 4,
 "nbformat_minor": 2
}
